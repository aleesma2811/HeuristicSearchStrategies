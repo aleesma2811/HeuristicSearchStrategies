{
 "cells": [
  {
   "cell_type": "code",
   "execution_count": 30,
   "metadata": {},
   "outputs": [],
   "source": [
    "import heapq\n",
    "import time"
   ]
  },
  {
   "cell_type": "code",
   "execution_count": 31,
   "metadata": {},
   "outputs": [],
   "source": [
    "grid = [\n",
    "    ['A', 'B', 'C', 'D', 'E'],\n",
    "    ['F', 'G', 'H', 'I', 'J'],\n",
    "    ['K', 'L', 'M', 'N', 'Ñ'],\n",
    "    ['O', 'P', 'Q', 'R', 'S'],\n",
    "    ['T', 'U', 'V', 'W', 'X']\n",
    "]\n",
    "\n",
    "# Convertimos los puntos de inicio y fin a coordenadas\n",
    "# Definimos la posición de cada coordenada\n",
    "locations = {\n",
    "    'A': (0, 0), 'B': (0, 1), 'C': (0, 2), 'D': (0, 3), 'E': (0, 4),\n",
    "    'F': (1, 0), 'G': (1, 1), 'H': (1, 2), 'I': (1, 3), 'J': (1, 4),\n",
    "    'K': (2, 0), 'L': (2, 1), 'M': (2, 2), 'N': (2, 3), 'Ñ': (2, 4),\n",
    "    'O': (3, 0), 'P': (3, 1), 'Q': (3, 2), 'R': (3, 3), 'S': (3, 4),\n",
    "    'T': (4, 0), 'U': (4, 1), 'V': (4, 2), 'W': (4, 3), 'X': (4, 4)\n",
    "}"
   ]
  },
  {
   "cell_type": "code",
   "execution_count": 32,
   "metadata": {},
   "outputs": [],
   "source": [
    "# Función para calcular la distancia de Manhattan entre dos puntos\n",
    "def manhattan_distance(start, goal):\n",
    "    dx = abs(start[0] - goal[0])  # Absoluto\n",
    "    dy = abs(start[1] - goal[1])\n",
    "    return dx + dy"
   ]
  },
  {
   "cell_type": "code",
   "execution_count": 33,
   "metadata": {},
   "outputs": [],
   "source": [
    "# Función para obtener los vecinos de un nodo en el grid\n",
    "def get_neighbors(node, grid, obstacle=None):\n",
    "    neighbors = []\n",
    "    directions = [(-1, 0), (1, 0), (0, -1), (0, 1)]  # Arriba, Abajo, Izquierda, Derecha\n",
    "    for direction in directions:\n",
    "        neighbor = (node[0] + direction[0], node[1] + direction[1])\n",
    "        # Si los nodos se encuentran en las esquinas, no agregues vecinos fuera del grid\n",
    "        if 0 <= neighbor[0] < len(grid) and 0 <= neighbor[1] < len(grid[0]):\n",
    "            # Si el vecino es el obstáculo, saltarlo\n",
    "            if obstacle and neighbor == locations[obstacle]:\n",
    "                continue\n",
    "            neighbors.append(neighbor)\n",
    "    return neighbors"
   ]
  },
  {
   "cell_type": "code",
   "execution_count": 34,
   "metadata": {},
   "outputs": [],
   "source": [
    "def astar(grid, start, goal, obstacle=None):\n",
    "    open_set = {start: (0, manhattan_distance(start, goal))} # Costo heurístico\n",
    "    came_from = {}\n",
    "    g_score = {start: 0} # Costo real\n",
    "    moves = 0\n",
    "\n",
    "    while open_set:\n",
    "        # Escoger el nodo con el menor precio\n",
    "        current = min(open_set, key=lambda x: open_set[x][1])\n",
    "\n",
    "        if current == goal:\n",
    "            # Reconstruir camino\n",
    "            path = []\n",
    "            while current in came_from:\n",
    "                path.append(current)\n",
    "                current = came_from[current]\n",
    "            path.append(start)\n",
    "            # Devoler camino ordenado, costo y número de movimientos\n",
    "            return path[::-1], g_score[goal], moves\n",
    "\n",
    "        del open_set[current]\n",
    "\n",
    "        for neighbor in get_neighbors(current, grid, obstacle):\n",
    "            # Costo al moverse una cuadrícula\n",
    "            tentative_g_score = g_score[current] + 1\n",
    "            if neighbor not in g_score or tentative_g_score < g_score[neighbor]:\n",
    "                came_from[neighbor] = current\n",
    "                g_score[neighbor] = tentative_g_score\n",
    "                f_score = tentative_g_score + manhattan_distance(neighbor, goal)\n",
    "                open_set[neighbor] = (tentative_g_score, f_score)\n",
    "                moves += 1\n",
    "    return \"No se encontró un camino\", 0, 0"
   ]
  },
  {
   "cell_type": "code",
   "execution_count": 35,
   "metadata": {},
   "outputs": [],
   "source": [
    "# Función para imprimir el camino encontrado\n",
    "def print_path(path):\n",
    "    for node in path:\n",
    "        for key, value in locations.items():\n",
    "            if value == node:\n",
    "                print(key, end=' -> ')\n",
    "                break"
   ]
  },
  {
   "cell_type": "code",
   "execution_count": 36,
   "metadata": {},
   "outputs": [
    {
     "name": "stdout",
     "output_type": "stream",
     "text": [
      "Camino encontrado: \n",
      "O -> K -> L -> M -> N -> I -> Costo total: 5\n",
      "Número de movimientos: 18\n",
      "Tiempo de ejecución: 6.1333e-05s\n"
     ]
    }
   ],
   "source": [
    "\n",
    "# Seleccionar nodos y obstáculo\n",
    "start_letter = 'O'\n",
    "goal_letter = 'I'\n",
    "obstacle_letter = 'H'\n",
    "\n",
    "start = locations[start_letter]\n",
    "goal = locations[goal_letter]\n",
    "\n",
    "# Verificar si se ingresó un obstáculo\n",
    "if obstacle_letter == '':\n",
    "    obstacle = None\n",
    "else:\n",
    "    obstacle = obstacle_letter\n",
    "\n",
    "# Calcular tiempo\n",
    "start_time = time.perf_counter_ns()\n",
    "path, cost, moves = astar(grid, start, goal, obstacle)\n",
    "astarSolverTime = (time.perf_counter_ns() - start_time) * 1e-9\n",
    "\n",
    "print(\"Camino encontrado: \")\n",
    "print_path(path)\n",
    "print(f\"Costo total: {cost}\")\n",
    "print(f\"Número de movimientos: {moves}\")\n",
    "print(f\"Tiempo de ejecución: {astarSolverTime}s\")\n",
    "\n"
   ]
  },
  {
   "cell_type": "code",
   "execution_count": null,
   "metadata": {},
   "outputs": [],
   "source": []
  }
 ],
 "metadata": {
  "kernelspec": {
   "display_name": "venv",
   "language": "python",
   "name": "python3"
  },
  "language_info": {
   "codemirror_mode": {
    "name": "ipython",
    "version": 3
   },
   "file_extension": ".py",
   "mimetype": "text/x-python",
   "name": "python",
   "nbconvert_exporter": "python",
   "pygments_lexer": "ipython3",
   "version": "3.11.5"
  }
 },
 "nbformat": 4,
 "nbformat_minor": 2
}
